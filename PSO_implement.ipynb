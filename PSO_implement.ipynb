{
 "cells": [
  {
   "cell_type": "code",
   "execution_count": 15,
   "metadata": {},
   "outputs": [
    {
     "data": {
      "text/html": [
       "<div>\n",
       "<style scoped>\n",
       "    .dataframe tbody tr th:only-of-type {\n",
       "        vertical-align: middle;\n",
       "    }\n",
       "\n",
       "    .dataframe tbody tr th {\n",
       "        vertical-align: top;\n",
       "    }\n",
       "\n",
       "    .dataframe thead th {\n",
       "        text-align: right;\n",
       "    }\n",
       "</style>\n",
       "<table border=\"1\" class=\"dataframe\">\n",
       "  <thead>\n",
       "    <tr style=\"text-align: right;\">\n",
       "      <th></th>\n",
       "      <th>gender</th>\n",
       "      <th>cholesterol</th>\n",
       "      <th>gluc</th>\n",
       "      <th>smoke</th>\n",
       "      <th>alco</th>\n",
       "      <th>active</th>\n",
       "      <th>cardio</th>\n",
       "      <th>bmicat</th>\n",
       "      <th>agecat</th>\n",
       "      <th>hyper_tension_gr</th>\n",
       "    </tr>\n",
       "  </thead>\n",
       "  <tbody>\n",
       "    <tr>\n",
       "      <th>0</th>\n",
       "      <td>1</td>\n",
       "      <td>1</td>\n",
       "      <td>1</td>\n",
       "      <td>0</td>\n",
       "      <td>0</td>\n",
       "      <td>1</td>\n",
       "      <td>0</td>\n",
       "      <td>2.0</td>\n",
       "      <td>5.0</td>\n",
       "      <td>1</td>\n",
       "    </tr>\n",
       "    <tr>\n",
       "      <th>1</th>\n",
       "      <td>0</td>\n",
       "      <td>3</td>\n",
       "      <td>1</td>\n",
       "      <td>0</td>\n",
       "      <td>0</td>\n",
       "      <td>1</td>\n",
       "      <td>1</td>\n",
       "      <td>4.0</td>\n",
       "      <td>6.0</td>\n",
       "      <td>2</td>\n",
       "    </tr>\n",
       "    <tr>\n",
       "      <th>2</th>\n",
       "      <td>0</td>\n",
       "      <td>3</td>\n",
       "      <td>1</td>\n",
       "      <td>0</td>\n",
       "      <td>0</td>\n",
       "      <td>0</td>\n",
       "      <td>1</td>\n",
       "      <td>2.0</td>\n",
       "      <td>5.0</td>\n",
       "      <td>1</td>\n",
       "    </tr>\n",
       "    <tr>\n",
       "      <th>3</th>\n",
       "      <td>1</td>\n",
       "      <td>1</td>\n",
       "      <td>1</td>\n",
       "      <td>0</td>\n",
       "      <td>0</td>\n",
       "      <td>1</td>\n",
       "      <td>1</td>\n",
       "      <td>3.0</td>\n",
       "      <td>4.0</td>\n",
       "      <td>2</td>\n",
       "    </tr>\n",
       "    <tr>\n",
       "      <th>4</th>\n",
       "      <td>0</td>\n",
       "      <td>1</td>\n",
       "      <td>1</td>\n",
       "      <td>0</td>\n",
       "      <td>0</td>\n",
       "      <td>0</td>\n",
       "      <td>0</td>\n",
       "      <td>2.0</td>\n",
       "      <td>4.0</td>\n",
       "      <td>1</td>\n",
       "    </tr>\n",
       "  </tbody>\n",
       "</table>\n",
       "</div>"
      ],
      "text/plain": [
       "   gender  cholesterol  gluc  smoke  alco  active  cardio  bmicat  agecat  \\\n",
       "0       1            1     1      0     0       1       0     2.0     5.0   \n",
       "1       0            3     1      0     0       1       1     4.0     6.0   \n",
       "2       0            3     1      0     0       0       1     2.0     5.0   \n",
       "3       1            1     1      0     0       1       1     3.0     4.0   \n",
       "4       0            1     1      0     0       0       0     2.0     4.0   \n",
       "\n",
       "   hyper_tension_gr  \n",
       "0                 1  \n",
       "1                 2  \n",
       "2                 1  \n",
       "3                 2  \n",
       "4                 1  "
      ]
     },
     "execution_count": 15,
     "metadata": {},
     "output_type": "execute_result"
    }
   ],
   "source": [
    "import pandas as pd\n",
    "import numpy as np\n",
    "import pyswarms as ps\n",
    "\n",
    "df = pd.read_csv('cardio_cleaned.csv')\n",
    "df.head()"
   ]
  },
  {
   "cell_type": "code",
   "execution_count": 2,
   "metadata": {},
   "outputs": [
    {
     "data": {
      "text/plain": [
       "((66826, 9), (66826,))"
      ]
     },
     "execution_count": 2,
     "metadata": {},
     "output_type": "execute_result"
    }
   ],
   "source": [
    "X = df.copy()\n",
    "y = X.cardio\n",
    "X.drop(columns=\"cardio\",inplace=True)\n",
    "X.shape,y.shape"
   ]
  },
  {
   "cell_type": "code",
   "execution_count": 5,
   "metadata": {},
   "outputs": [
    {
     "data": {
      "text/plain": [
       "((46778, 9), (20048, 9), (46778,), (20048,))"
      ]
     },
     "execution_count": 5,
     "metadata": {},
     "output_type": "execute_result"
    }
   ],
   "source": [
    "from sklearn.model_selection import StratifiedKFold, train_test_split\n",
    "X_train, X_test, y_train, y_test = train_test_split(X,y,test_size = 0.3,random_state=42)\n",
    "#train = pd.concat([X_train,y_train],axis=1)\n",
    "#test = pd.concat([X_test,y_test],axis=1)\n",
    "X_train.shape, X_test.shape, y_train.shape, y_test.shape"
   ]
  },
  {
   "cell_type": "code",
   "execution_count": 6,
   "metadata": {},
   "outputs": [
    {
     "data": {
      "text/plain": [
       "((46778, 9), (46778,))"
      ]
     },
     "execution_count": 6,
     "metadata": {},
     "output_type": "execute_result"
    }
   ],
   "source": [
    "X_train = X_train.values\n",
    "y_train = y_train.values\n",
    "X_train.shape,y_train.shape"
   ]
  },
  {
   "cell_type": "markdown",
   "metadata": {},
   "source": [
    "# Particles Swarm Optimization"
   ]
  },
  {
   "cell_type": "code",
   "execution_count": 7,
   "metadata": {},
   "outputs": [],
   "source": [
    "n_inputs = X_train.shape[1]\n",
    "n_hidden = 20\n",
    "n_classes = 2\n",
    "num_samples = len(X_train)\n",
    "iteration = 1000"
   ]
  },
  {
   "cell_type": "code",
   "execution_count": 8,
   "metadata": {},
   "outputs": [],
   "source": [
    "n_inputs = X_train.shape[1]\n",
    "n_hidden = 20\n",
    "n_classes = 2\n",
    "num_samples = len(X_train)\n",
    "iteration = 1000"
   ]
  },
  {
   "cell_type": "code",
   "execution_count": 10,
   "metadata": {},
   "outputs": [],
   "source": [
    "a = n_inputs*n_hidden\n",
    "b = a+n_hidden\n",
    "c = b+(n_hidden*n_classes)\n",
    "d = c+n_classes"
   ]
  },
  {
   "cell_type": "code",
   "execution_count": 11,
   "metadata": {},
   "outputs": [],
   "source": [
    "def logits_function(p):\n",
    "    \"\"\" Calculate roll-back the weights and biases\n",
    "\n",
    "    Inputs\n",
    "    ------\n",
    "    p: np.ndarray\n",
    "        The dimensions should include an unrolled version of the\n",
    "        weights and biases.\n",
    "\n",
    "    Returns\n",
    "    -------\n",
    "    numpy.ndarray of logits for layer 2\n",
    "\n",
    "    \"\"\"\n",
    "    # Roll-back the weights and biases\n",
    "    W1 = p[0:a].reshape((n_inputs,n_hidden))\n",
    "    b1 = p[a:b].reshape((n_hidden,))\n",
    "    W2 = p[b:c].reshape((n_hidden,n_classes))\n",
    "    b2 = p[c:d].reshape((n_classes,))\n",
    "\n",
    "    # Perform forward propagation\n",
    "    z1 = X_train.dot(W1) + b1  # Pre-activation in Layer 1\n",
    "    a1 = np.tanh(z1)     # Activation in Layer 1\n",
    "    logits = a1.dot(W2) + b2 # Pre-activation in Layer 2\n",
    "    return logits          # Logits for Layer 2\n"
   ]
  },
  {
   "cell_type": "code",
   "execution_count": 12,
   "metadata": {},
   "outputs": [],
   "source": [
    "# Forward propagation\n",
    "def forward_prop(params):\n",
    "    \"\"\"Forward propagation as objective function\n",
    "\n",
    "    This computes for the forward propagation of the neural network, as\n",
    "    well as the loss.\n",
    "\n",
    "    Inputs\n",
    "    ------\n",
    "    params: np.ndarray\n",
    "        The dimensions should include an unrolled version of the\n",
    "        weights and biases.\n",
    "\n",
    "    Returns\n",
    "    -------\n",
    "    float\n",
    "        The computed negative log-likelihood loss given the parameters\n",
    "    \"\"\"\n",
    "\n",
    "    logits = logits_function(params)\n",
    "\n",
    "    # Compute for the softmax of the logits\n",
    "    exp_scores = np.exp(logits)\n",
    "    probs = exp_scores / np.sum(exp_scores, axis=1, keepdims=True)\n",
    "\n",
    "    # Compute for the negative log likelihood\n",
    "\n",
    "    corect_logprobs = -np.log(probs[range(num_samples), y_train])\n",
    "    loss = np.sum(corect_logprobs) / num_samples\n",
    "\n",
    "    return loss"
   ]
  },
  {
   "cell_type": "code",
   "execution_count": 13,
   "metadata": {},
   "outputs": [],
   "source": [
    "def f(x):\n",
    "    \"\"\"Higher-level method to do forward_prop in the\n",
    "    whole swarm.\n",
    "\n",
    "    Inputs\n",
    "    ------\n",
    "    x: numpy.ndarray of shape (n_particles, dimensions)\n",
    "        The swarm that will perform the search\n",
    "\n",
    "    Returns\n",
    "    -------\n",
    "    numpy.ndarray of shape (n_particles, )\n",
    "        The computed loss for each particle\n",
    "    \"\"\"\n",
    "    n_particles = x.shape[0]\n",
    "    j = [forward_prop(x[i]) for i in range(n_particles)]\n",
    "    return np.array(j)"
   ]
  },
  {
   "cell_type": "code",
   "execution_count": 16,
   "metadata": {},
   "outputs": [
    {
     "name": "stderr",
     "output_type": "stream",
     "text": [
      "2024-09-29 20:58:39,322 - pyswarms.single.global_best - INFO - Optimize for 1000 iters with {'c1': 0.8, 'c2': 0.6, 'w': 0.9}\n",
      "pyswarms.single.global_best: 100%|██████████|1000/1000, best_cost=0.587\n",
      "2024-09-29 21:35:55,557 - pyswarms.single.global_best - INFO - Optimization finished | best cost: 0.5874931325147155, best pos: [ 2.25527013e+00  6.49994420e-01  8.08382498e-01  5.42450623e-01\n",
      "  7.07049456e-01  9.89214529e-01  5.41315981e-01 -7.80156041e-01\n",
      "  4.32904957e-01  5.04146149e-01  3.48838436e-01  2.23498737e-01\n",
      "  6.52699985e-01  1.56662620e+00  6.78252700e-03  3.44388894e-02\n",
      "  8.40523841e-01  3.71145412e-01  8.45153730e-01  1.46040917e-01\n",
      "  5.93995751e-01  1.63987044e+00  4.03666243e-01  1.87645093e-01\n",
      "  7.18463297e-01  2.08262832e-01  2.18838392e+00  1.17520468e+00\n",
      " -2.91478305e+00  1.27042931e+00 -2.82904287e-01  3.66244513e-01\n",
      "  1.00579602e+00  2.45445350e-01  8.14356851e-01 -3.96095428e-01\n",
      "  9.33616134e-01 -1.94871162e+00  7.57697924e-01  6.12975991e-01\n",
      "  1.16427959e+00  4.66925175e-01  3.16512717e-01  3.98871198e-01\n",
      " -3.40115325e-01  1.07809956e+00 -4.06212915e-02  1.08032666e+00\n",
      "  4.07816863e-01  9.40731165e-01  6.32354475e-01 -9.45883295e-02\n",
      "  1.29259881e+00  9.57707444e-01  7.27301878e-01  4.56595293e-01\n",
      " -1.67087407e-01 -5.32962412e-01 -5.98862353e-01 -5.53658934e-01\n",
      "  2.69716895e-01  1.87764964e-01  3.14585956e-01 -7.95303863e-01\n",
      " -7.69522275e+00  1.18080038e+00  3.52828236e+00  4.99646105e-01\n",
      " -3.40338621e-01  6.15817761e-01  5.08145328e-01  2.26171183e-01\n",
      " -6.13110208e-01  1.84409718e-01  1.64009312e+00 -3.42767163e-01\n",
      "  7.21494102e-01  9.21009170e-01  3.31560455e-01  1.17401366e-01\n",
      "  5.24343964e-01  1.63260170e+00  1.56104462e+00  5.92364224e-02\n",
      "  4.93537027e-01 -7.48735733e-02  3.27269042e+00  7.68237297e-01\n",
      "  6.63197032e-01  1.53872049e+00  9.61891778e-01  9.75470270e-01\n",
      "  1.83375120e+00  2.88728981e-01  1.87428379e+00 -7.37676978e-02\n",
      " -6.79639453e+00 -7.84859997e-01 -1.75161624e-01 -6.00107838e-01\n",
      "  4.53591820e-01  2.41205867e+00 -1.33665213e-01 -3.52981999e-01\n",
      " -1.27935340e-01  5.77505497e-02  2.25110238e-01 -6.77856436e-01\n",
      " -5.76773860e-01 -5.18001869e-01 -5.38806394e-01 -1.32485657e-01\n",
      "  2.61386403e+00  1.29398894e+00  8.96871670e-01  1.93391978e-01\n",
      "  1.32962193e-01  9.27828684e-01  8.32032433e-01  1.16848036e-01\n",
      " -3.43696459e-01  6.11728878e-01  1.00761255e+00 -2.66472507e-01\n",
      "  1.06693631e+00  7.22633532e-01  7.15160632e-01 -8.04669875e-01\n",
      "  2.77171900e-01  4.77655597e-01 -3.53879779e-01 -3.76894517e-01\n",
      " -2.04634211e-02  2.08513465e-01  8.25245158e-01 -4.87866903e-01\n",
      "  4.47196385e+00  3.16229092e+00  1.79000285e+00  6.71479296e-01\n",
      "  7.05118451e-01  1.14630551e+00  1.55372953e+00  2.34596921e-01\n",
      "  6.29521930e-01 -3.82563664e+00 -9.86033279e-01  1.34936016e+00\n",
      "  2.08303332e-01  9.35712342e-01 -3.97341551e-01  1.36304872e+00\n",
      "  7.63411436e-02 -5.04382493e-01 -1.61347204e-01 -1.57360563e-01\n",
      "  3.06488250e+00  2.97720458e-01  1.42169195e+00  1.02588164e+00\n",
      "  4.41015835e-01  5.32076073e-01  1.43320464e-01  1.94248024e+00\n",
      "  2.75766516e-01  8.92706717e-01  1.00117199e+00  5.23552968e-01\n",
      "  1.11843674e+00  8.18792975e-01  4.77272407e-01  6.51106446e-01\n",
      " -4.40213817e-02  1.54024036e+00  1.12691261e-01 -4.29991656e+00\n",
      " -3.63456862e-01  8.45418883e-01  2.65825678e+00  5.95733978e-01\n",
      "  1.17325063e+00 -3.43447611e+00  4.72738109e-01 -2.35196626e+00\n",
      "  2.83662106e+00  2.14338664e+00  1.08928603e+00  1.40167651e+00\n",
      "  4.24888538e+00  5.53428530e-01  4.47888656e-01  4.95064543e-01\n",
      " -1.14640382e+00  3.60945381e-01 -2.18257862e-02  7.07932356e+00\n",
      "  1.48757816e+00  8.83211831e-01 -1.98865930e-01  1.00933286e+01\n",
      "  5.00388414e-01 -2.59009999e+00  8.87147371e-01  6.14211019e-01\n",
      "  1.86748667e+00  3.27606359e-01 -5.02313962e-01  2.10517359e-01\n",
      "  3.52254170e-01  8.78875961e-02  9.36205093e-01  1.07979046e+00\n",
      "  9.31255387e-01  4.42853805e-01  9.39297800e-01  5.27559880e-01\n",
      "  1.25919744e+00  7.02858929e-01  6.21237645e-01  2.01810547e-01\n",
      "  1.02781768e+00  1.66388160e-01  5.37172325e-01  6.29500175e-01\n",
      " -1.71996903e-01  2.70963986e-01  7.08390033e-01  8.62837968e-01\n",
      "  2.85247794e-01  2.09460912e+00  9.65443700e-01 -8.89132325e-03\n",
      "  9.45228245e-02  8.83370001e-02 -3.45006780e-02 -2.04341838e-01\n",
      " -1.55600753e+00  1.53071584e+00 -6.96484783e-01  5.70580046e-01\n",
      "  8.54657981e-01  7.50762015e-02]\n"
     ]
    },
    {
     "name": "stdout",
     "output_type": "stream",
     "text": [
      "CPU times: total: 13min 59s\n",
      "Wall time: 37min 16s\n"
     ]
    }
   ],
   "source": [
    "%%time\n",
    "# Initialize swarm\n",
    "options = {'c1': 0.8, 'c2': 0.6, 'w':0.9}\n",
    "\n",
    "# Call instance of PSO\n",
    "dimensions = (n_inputs * n_hidden) + (n_hidden * n_classes) + n_hidden + n_classes\n",
    "optimizer = ps.single.GlobalBestPSO(n_particles=100, dimensions=dimensions, options=options)\n",
    "\n",
    "# Perform optimization\n",
    "cost, pos = optimizer.optimize(f, iters=iteration)"
   ]
  },
  {
   "cell_type": "code",
   "execution_count": 17,
   "metadata": {},
   "outputs": [],
   "source": [
    "def predict(pos):\n",
    "    \"\"\"\n",
    "    Use the trained weights to perform class predictions.\n",
    "\n",
    "    Inputs\n",
    "    ------\n",
    "    pos: numpy.ndarray\n",
    "        Position matrix found by the swarm. Will be rolled\n",
    "        into weights and biases.\n",
    "    \"\"\"\n",
    "    logits = logits_function(pos)\n",
    "    y_pred = np.argmax(logits, axis=1)\n",
    "    return y_pred"
   ]
  },
  {
   "cell_type": "code",
   "execution_count": 18,
   "metadata": {},
   "outputs": [
    {
     "data": {
      "text/plain": [
       "np.float64(0.7002650818760956)"
      ]
     },
     "execution_count": 18,
     "metadata": {},
     "output_type": "execute_result"
    }
   ],
   "source": [
    "(predict(pos) == y_train).mean()"
   ]
  },
  {
   "cell_type": "code",
   "execution_count": 19,
   "metadata": {},
   "outputs": [
    {
     "data": {
      "image/png": "[encoded data removed]",
      "text/plain": [
       "<Figure size 1000x800 with 1 Axes>"
      ]
     },
     "metadata": {},
     "output_type": "display_data"
    }
   ],
   "source": [
    "from pyswarms.utils.plotters.formatters import Mesher\n",
    "from pyswarms.utils.plotters import (plot_cost_history, plot_contour, plot_surface)\n",
    "import matplotlib.pyplot as plt\n",
    "plot_cost_history(cost_history=optimizer.cost_history)\n",
    "plt.show()"
   ]
  },
  {
   "cell_type": "code",
   "execution_count": 21,
   "metadata": {},
   "outputs": [
    {
     "data": {
      "text/plain": [
       "np.float64(0.5874931325147155)"
      ]
     },
     "execution_count": 21,
     "metadata": {},
     "output_type": "execute_result"
    }
   ],
   "source": [
    "optimizer.cost_history[-1]"
   ]
  }
 ],
 "metadata": {
  "kernelspec": {
   "display_name": "venv",
   "language": "python",
   "name": "python3"
  },
  "language_info": {
   "codemirror_mode": {
    "name": "ipython",
    "version": 3
   },
   "file_extension": ".py",
   "mimetype": "text/x-python",
   "name": "python",
   "nbconvert_exporter": "python",
   "pygments_lexer": "ipython3",
   "version": "3.11.9"
  }
 },
 "nbformat": 4,
 "nbformat_minor": 2
}
