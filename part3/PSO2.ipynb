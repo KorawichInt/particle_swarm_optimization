{
 "cells": [
  {
   "cell_type": "markdown",
   "metadata": {},
   "source": [
    "### Dataset Prepartion"
   ]
  },
  {
   "cell_type": "code",
   "execution_count": 2,
   "metadata": {},
   "outputs": [
    {
     "data": {
      "text/html": [
       "<div>\n",
       "<style scoped>\n",
       "    .dataframe tbody tr th:only-of-type {\n",
       "        vertical-align: middle;\n",
       "    }\n",
       "\n",
       "    .dataframe tbody tr th {\n",
       "        vertical-align: top;\n",
       "    }\n",
       "\n",
       "    .dataframe thead th {\n",
       "        text-align: right;\n",
       "    }\n",
       "</style>\n",
       "<table border=\"1\" class=\"dataframe\">\n",
       "  <thead>\n",
       "    <tr style=\"text-align: right;\">\n",
       "      <th></th>\n",
       "      <th>HeartDiseaseorAttack</th>\n",
       "      <th>HighBP</th>\n",
       "      <th>HighChol</th>\n",
       "      <th>CholCheck</th>\n",
       "      <th>BMI</th>\n",
       "      <th>Smoker</th>\n",
       "      <th>Stroke</th>\n",
       "      <th>Diabetes</th>\n",
       "      <th>PhysActivity</th>\n",
       "      <th>Fruits</th>\n",
       "      <th>...</th>\n",
       "      <th>AnyHealthcare</th>\n",
       "      <th>NoDocbcCost</th>\n",
       "      <th>GenHlth</th>\n",
       "      <th>MentHlth</th>\n",
       "      <th>PhysHlth</th>\n",
       "      <th>DiffWalk</th>\n",
       "      <th>Sex</th>\n",
       "      <th>Age</th>\n",
       "      <th>Education</th>\n",
       "      <th>Income</th>\n",
       "    </tr>\n",
       "  </thead>\n",
       "  <tbody>\n",
       "    <tr>\n",
       "      <th>0</th>\n",
       "      <td>0.0</td>\n",
       "      <td>1.0</td>\n",
       "      <td>1.0</td>\n",
       "      <td>1.0</td>\n",
       "      <td>40.0</td>\n",
       "      <td>1.0</td>\n",
       "      <td>0.0</td>\n",
       "      <td>0.0</td>\n",
       "      <td>0.0</td>\n",
       "      <td>0.0</td>\n",
       "      <td>...</td>\n",
       "      <td>1.0</td>\n",
       "      <td>0.0</td>\n",
       "      <td>5.0</td>\n",
       "      <td>18.0</td>\n",
       "      <td>15.0</td>\n",
       "      <td>1.0</td>\n",
       "      <td>0.0</td>\n",
       "      <td>9.0</td>\n",
       "      <td>4.0</td>\n",
       "      <td>3.0</td>\n",
       "    </tr>\n",
       "    <tr>\n",
       "      <th>1</th>\n",
       "      <td>0.0</td>\n",
       "      <td>0.0</td>\n",
       "      <td>0.0</td>\n",
       "      <td>0.0</td>\n",
       "      <td>25.0</td>\n",
       "      <td>1.0</td>\n",
       "      <td>0.0</td>\n",
       "      <td>0.0</td>\n",
       "      <td>1.0</td>\n",
       "      <td>0.0</td>\n",
       "      <td>...</td>\n",
       "      <td>0.0</td>\n",
       "      <td>1.0</td>\n",
       "      <td>3.0</td>\n",
       "      <td>0.0</td>\n",
       "      <td>0.0</td>\n",
       "      <td>0.0</td>\n",
       "      <td>0.0</td>\n",
       "      <td>7.0</td>\n",
       "      <td>6.0</td>\n",
       "      <td>1.0</td>\n",
       "    </tr>\n",
       "    <tr>\n",
       "      <th>2</th>\n",
       "      <td>0.0</td>\n",
       "      <td>1.0</td>\n",
       "      <td>1.0</td>\n",
       "      <td>1.0</td>\n",
       "      <td>28.0</td>\n",
       "      <td>0.0</td>\n",
       "      <td>0.0</td>\n",
       "      <td>0.0</td>\n",
       "      <td>0.0</td>\n",
       "      <td>1.0</td>\n",
       "      <td>...</td>\n",
       "      <td>1.0</td>\n",
       "      <td>1.0</td>\n",
       "      <td>5.0</td>\n",
       "      <td>30.0</td>\n",
       "      <td>30.0</td>\n",
       "      <td>1.0</td>\n",
       "      <td>0.0</td>\n",
       "      <td>9.0</td>\n",
       "      <td>4.0</td>\n",
       "      <td>8.0</td>\n",
       "    </tr>\n",
       "  </tbody>\n",
       "</table>\n",
       "<p>3 rows × 22 columns</p>\n",
       "</div>"
      ],
      "text/plain": [
       "   HeartDiseaseorAttack  HighBP  HighChol  CholCheck   BMI  Smoker  Stroke  \\\n",
       "0                   0.0     1.0       1.0        1.0  40.0     1.0     0.0   \n",
       "1                   0.0     0.0       0.0        0.0  25.0     1.0     0.0   \n",
       "2                   0.0     1.0       1.0        1.0  28.0     0.0     0.0   \n",
       "\n",
       "   Diabetes  PhysActivity  Fruits  ...  AnyHealthcare  NoDocbcCost  GenHlth  \\\n",
       "0       0.0           0.0     0.0  ...            1.0          0.0      5.0   \n",
       "1       0.0           1.0     0.0  ...            0.0          1.0      3.0   \n",
       "2       0.0           0.0     1.0  ...            1.0          1.0      5.0   \n",
       "\n",
       "   MentHlth  PhysHlth  DiffWalk  Sex  Age  Education  Income  \n",
       "0      18.0      15.0       1.0  0.0  9.0        4.0     3.0  \n",
       "1       0.0       0.0       0.0  0.0  7.0        6.0     1.0  \n",
       "2      30.0      30.0       1.0  0.0  9.0        4.0     8.0  \n",
       "\n",
       "[3 rows x 22 columns]"
      ]
     },
     "execution_count": 2,
     "metadata": {},
     "output_type": "execute_result"
    }
   ],
   "source": [
    "import numpy as np\n",
    "import pandas as pd\n",
    "import matplotlib.pyplot as plt\n",
    "from sklearn.model_selection import train_test_split\n",
    "from sklearn.preprocessing import StandardScaler\n",
    "\n",
    "df = pd.read_csv('heart_disease_health_indicators_BRFSS2015.csv')\n",
    "df.head(3)"
   ]
  },
  {
   "cell_type": "code",
   "execution_count": 5,
   "metadata": {},
   "outputs": [
    {
     "name": "stdout",
     "output_type": "stream",
     "text": [
      "[ 1.  1.  1. 35.  0.  0.  2.  1.  1.  1.  0.  1.  0.  5.  0. 14.  1.  0.\n",
      " 12.  3.  1.]\n",
      "\n",
      "Scaled Training Features:\n",
      "[ 1.15483331  1.16695813  0.1971837   0.99995662 -0.89235173 -0.20549668\n",
      "  2.43405003  0.56670248  0.75909525  0.48148954 -0.24392086  0.22739866\n",
      " -0.30325285  2.32677679 -0.42994252  1.11566102  2.22256412 -0.88635016\n",
      "  1.2999631  -2.07622476 -2.4355597 ]\n"
     ]
    }
   ],
   "source": [
    "# Define features (input) and target (output)\n",
    "X = df.drop('HeartDiseaseorAttack', axis=1).values\n",
    "y = df['HeartDiseaseorAttack'].values\n",
    "\n",
    "# Split into training and testing sets\n",
    "X_train, X_test, y_train, y_test = train_test_split(X, y, test_size=0.3, random_state=42)\n",
    "print(X_train[0])\n",
    "\n",
    "# Feature scaling\n",
    "scaler = StandardScaler()\n",
    "X_train = scaler.fit_transform(X_train)\n",
    "X_test = scaler.transform(X_test)\n",
    "print(\"\\nScaled Training Features:\")\n",
    "print(X_train[0])"
   ]
  },
  {
   "cell_type": "code",
   "execution_count": 6,
   "metadata": {},
   "outputs": [],
   "source": [
    "# Define activation functions\n",
    "def sigmoid(x):\n",
    "    return 1 / (1 + np.exp(-x))\n",
    "\n",
    "def sigmoid_derivative(x):\n",
    "    s = sigmoid(x)\n",
    "    return s * (1 - s)\n",
    "\n",
    "def relu(x):\n",
    "    return np.maximum(0, x)\n",
    "\n",
    "def relu_derivative(x):\n",
    "    return np.where(x > 0, 1, 0)"
   ]
  },
  {
   "cell_type": "code",
   "execution_count": 7,
   "metadata": {},
   "outputs": [
    {
     "name": "stdout",
     "output_type": "stream",
     "text": [
      "Input Size: 21, Hidden Size: 11, Output Size: 1\n"
     ]
    }
   ],
   "source": [
    "# Define the network architecture\n",
    "input_size = X_train.shape[1]  # Number of input features\n",
    "hidden_size = 11                # Number of hidden neurons (can be adjusted)\n",
    "output_size = 1                # Binary classification\n",
    "\n",
    "print(f\"Input Size: {input_size}, Hidden Size: {hidden_size}, Output Size: {output_size}\")\n"
   ]
  },
  {
   "cell_type": "code",
   "execution_count": 8,
   "metadata": {},
   "outputs": [],
   "source": [
    "def forward_propagation(X, weights):    \n",
    "    \"\"\"\n",
    "    Perform forward propagation.\n",
    "\n",
    "    Parameters:\n",
    "    - X: Input data\n",
    "    - weights: Dictionary containing weights and biases\n",
    "\n",
    "    Returns:\n",
    "    - activations: Dictionary containing layer activations\n",
    "    \"\"\"\n",
    "    activations = {}\n",
    "    # Hidden layer\n",
    "    z1 = np.dot(X, weights['W1']) + weights['b1']\n",
    "    a1 = relu(z1)\n",
    "    activations['z1'] = z1\n",
    "    activations['a1'] = a1\n",
    "    \n",
    "    # Output layer\n",
    "    z2 = np.dot(a1, weights['W2']) + weights['b2']\n",
    "    a2 = sigmoid(z2)\n",
    "    activations['z2'] = z2\n",
    "    activations['a2'] = a2\n",
    "    \n",
    "    return activations\n"
   ]
  },
  {
   "cell_type": "code",
   "execution_count": 9,
   "metadata": {},
   "outputs": [],
   "source": [
    "def binary_cross_entropy(y_true, y_pred):\n",
    "    \"\"\"\n",
    "    Compute Binary Cross-Entropy loss.\n",
    "\n",
    "    Parameters:\n",
    "    - y_true: True labels\n",
    "    - y_pred: Predicted labels\n",
    "\n",
    "    Returns:\n",
    "    - loss: Binary cross-entropy loss\n",
    "    \"\"\"\n",
    "    # To prevent log(0) by define range with np.clip\n",
    "    epsilon = 1e-8\n",
    "    y_pred = np.clip(y_pred, epsilon, 1 - epsilon)\n",
    "    loss = -np.mean(y_true * np.log(y_pred) + (1 - y_true) * np.log(1 - y_pred))\n",
    "    return loss\n"
   ]
  },
  {
   "cell_type": "code",
   "execution_count": 10,
   "metadata": {},
   "outputs": [],
   "source": [
    "class Particle:\n",
    "    def __init__(self, dimensions):\n",
    "        # Initialize position and velocity\n",
    "        self.position = np.random.uniform(-1, 1, dimensions)\n",
    "        self.velocity = np.random.uniform(-0.1, 0.1, dimensions)\n",
    "        self.best_position = self.position.copy()\n",
    "        self.best_error = float('inf')\n"
   ]
  },
  {
   "cell_type": "code",
   "execution_count": 11,
   "metadata": {},
   "outputs": [],
   "source": [
    "class PSO:\n",
    "    def __init__(self, num_particles, dimensions, inertia=0.5, cognitive=1.5, social=1.5):\n",
    "        self.num_particles = num_particles\n",
    "        self.dimensions = dimensions\n",
    "        self.inertia = inertia\n",
    "        self.cognitive = cognitive\n",
    "        self.social = social\n",
    "        self.swarm = [Particle(dimensions) for _ in range(num_particles)]\n",
    "        self.global_best_position = np.random.uniform(-1, 1, dimensions)\n",
    "        self.global_best_error = float('inf')\n",
    "    \n",
    "    def optimize(self, objective_func, iterations):\n",
    "        for it in range(iterations):\n",
    "            for particle in self.swarm:\n",
    "                # Evaluate current position\n",
    "                error = objective_func(particle.position)\n",
    "                \n",
    "                # Update personal best\n",
    "                if error < particle.best_error:\n",
    "                    particle.best_error = error\n",
    "                    particle.best_position = particle.position.copy()\n",
    "                \n",
    "                # Update global best\n",
    "                if error < self.global_best_error:\n",
    "                    self.global_best_error = error\n",
    "                    self.global_best_position = particle.position.copy()\n",
    "            \n",
    "            for particle in self.swarm:\n",
    "                # Update velocity\n",
    "                r1 = np.random.rand(self.dimensions)\n",
    "                r2 = np.random.rand(self.dimensions)\n",
    "                cognitive_velocity = self.cognitive * r1 * (particle.best_position - particle.position)\n",
    "                social_velocity = self.social * r2 * (self.global_best_position - particle.position)\n",
    "                particle.velocity = self.inertia * particle.velocity + cognitive_velocity + social_velocity\n",
    "                \n",
    "                # Update position\n",
    "                particle.position += particle.velocity\n",
    "            \n",
    "            if it % 10 == 0 or it == iterations - 1:\n",
    "                print(f\"Iteration {it+1}/{iterations}, Global Best Error: {self.global_best_error:.4f}\")\n",
    "        \n",
    "        return self.global_best_position, self.global_best_error\n"
   ]
  },
  {
   "cell_type": "code",
   "execution_count": 13,
   "metadata": {},
   "outputs": [],
   "source": [
    "def unpack_weights(position, input_size, hidden_size, output_size):\n",
    "    \"\"\"\n",
    "    Unpack the flat position vector into weight matrices and bias vectors.\n",
    "\n",
    "    Parameters:\n",
    "    - position: Flat array containing all weights and biases\n",
    "    - input_size: Number of input neurons\n",
    "    - hidden_size: Number of hidden neurons\n",
    "    - output_size: Number of output neurons\n",
    "\n",
    "    Returns:\n",
    "    - weights: Dictionary containing weight matrices and bias vectors\n",
    "    \"\"\"\n",
    "    weights = {}\n",
    "    # Calculate the indices for slicing\n",
    "    W1_end = input_size * hidden_size\n",
    "    b1_end = W1_end + hidden_size\n",
    "    W2_end = b1_end + hidden_size * output_size\n",
    "    b2_end = W2_end + output_size\n",
    "    \n",
    "    # Extract weights and biases\n",
    "    weights['W1'] = position[:W1_end].reshape(input_size, hidden_size)\n",
    "    weights['b1'] = position[W1_end:b1_end].reshape(1, hidden_size)\n",
    "    weights['W2'] = position[b1_end:W2_end].reshape(hidden_size, output_size)\n",
    "    weights['b2'] = position[W2_end:b2_end].reshape(1, output_size)\n",
    "    \n",
    "    return weights\n"
   ]
  },
  {
   "cell_type": "code",
   "execution_count": 14,
   "metadata": {},
   "outputs": [],
   "source": [
    "\n",
    "def objective_function(position):\n",
    "    \"\"\"\n",
    "    Objective function to minimize: Binary Cross-Entropy loss on training data.\n",
    "\n",
    "    Parameters:\n",
    "    - position: Flat array containing all weights and biases\n",
    "\n",
    "    Returns:\n",
    "    - loss: Binary cross-entropy loss\n",
    "    \"\"\"\n",
    "    weights = unpack_weights(position, input_size, hidden_size, output_size)\n",
    "    activations = forward_propagation(X_train, weights)\n",
    "    y_pred = activations['a2'].flatten()\n",
    "    loss = binary_cross_entropy(y_train, y_pred)\n",
    "    return loss"
   ]
  },
  {
   "cell_type": "code",
   "execution_count": 15,
   "metadata": {},
   "outputs": [
    {
     "name": "stdout",
     "output_type": "stream",
     "text": [
      "Total parameters: 254\n"
     ]
    }
   ],
   "source": [
    "# Calculate total number of parameters\n",
    "W1_size = input_size * hidden_size\n",
    "b1_size = hidden_size\n",
    "W2_size = hidden_size * output_size\n",
    "b2_size = output_size\n",
    "total_params = W1_size + b1_size + W2_size + b2_size\n",
    "\n",
    "print(f\"Total parameters: {total_params}\")\n"
   ]
  },
  {
   "cell_type": "code",
   "execution_count": 18,
   "metadata": {},
   "outputs": [
    {
     "name": "stdout",
     "output_type": "stream",
     "text": [
      "Iteration 1/20, Global Best Error: 0.5146\n",
      "Iteration 11/20, Global Best Error: 0.3020\n",
      "Iteration 20/20, Global Best Error: 0.2635\n",
      "\n",
      "Best Error: 0.26349850358867327\n"
     ]
    }
   ],
   "source": [
    "# PSO parameters\n",
    "num_particles = 30\n",
    "iterations = 20\n",
    "dimensions = total_params\n",
    "\n",
    "# Initialize PSO\n",
    "pso = PSO(num_particles=num_particles, dimensions=dimensions)\n",
    "\n",
    "# Optimize\n",
    "best_position, best_error = pso.optimize(objective_function, iterations)\n",
    "print(f\"\\nBest Error: {best_error}\")\n"
   ]
  },
  {
   "cell_type": "code",
   "execution_count": 19,
   "metadata": {},
   "outputs": [
    {
     "name": "stdout",
     "output_type": "stream",
     "text": [
      "Training Accuracy: 90.24%\n",
      "Testing Accuracy: 90.43%\n"
     ]
    }
   ],
   "source": [
    "def predict(X, weights):\n",
    "    activations = forward_propagation(X, weights)\n",
    "    y_pred = activations['a2'].flatten()\n",
    "    # Convert probabilities to binary outcomes\n",
    "    return (y_pred >= 0.5).astype(int)\n",
    "\n",
    "# Unpack the best weights\n",
    "best_weights = unpack_weights(best_position, input_size, hidden_size, output_size)\n",
    "\n",
    "# Predictions on training set\n",
    "y_train_pred = predict(X_train, best_weights)\n",
    "train_accuracy = np.mean(y_train_pred == y_train) * 100\n",
    "\n",
    "# Predictions on testing set\n",
    "y_test_pred = predict(X_test, best_weights)\n",
    "test_accuracy = np.mean(y_test_pred == y_test) * 100\n",
    "\n",
    "print(f\"Training Accuracy: {train_accuracy:.2f}%\")\n",
    "print(f\"Testing Accuracy: {test_accuracy:.2f}%\")\n"
   ]
  },
  {
   "cell_type": "code",
   "execution_count": 20,
   "metadata": {},
   "outputs": [
    {
     "name": "stdout",
     "output_type": "stream",
     "text": [
      "Training Confusion Matrix:\n",
      "[[158922   1858]\n",
      " [ 15474   1322]]\n",
      "\n",
      "Testing Confusion Matrix:\n",
      "[[68263   744]\n",
      " [ 6541   556]]\n"
     ]
    }
   ],
   "source": [
    "def confusion_matrix(y_true, y_pred):\n",
    "    \"\"\"\n",
    "    Compute confusion matrix for binary classification.\n",
    "\n",
    "    Parameters:\n",
    "    - y_true: True labels\n",
    "    - y_pred: Predicted labels\n",
    "\n",
    "    Returns:\n",
    "    - matrix: 2x2 confusion matrix\n",
    "    \"\"\"\n",
    "    TP = np.sum((y_true == 1) & (y_pred == 1))\n",
    "    TN = np.sum((y_true == 0) & (y_pred == 0))\n",
    "    FP = np.sum((y_true == 0) & (y_pred == 1))\n",
    "    FN = np.sum((y_true == 1) & (y_pred == 0))\n",
    "    return np.array([[TN, FP],\n",
    "                     [FN, TP]])\n",
    "\n",
    "# Compute confusion matrices\n",
    "train_cm = confusion_matrix(y_train, y_train_pred)\n",
    "test_cm = confusion_matrix(y_test, y_test_pred)\n",
    "\n",
    "print(\"Training Confusion Matrix:\")\n",
    "print(train_cm)\n",
    "print(\"\\nTesting Confusion Matrix:\")\n",
    "print(test_cm)\n"
   ]
  },
  {
   "cell_type": "code",
   "execution_count": 21,
   "metadata": {},
   "outputs": [],
   "source": [
    "class PSO:\n",
    "    def __init__(self, num_particles, dimensions, inertia=0.5, cognitive=1.5, social=1.5):\n",
    "        self.num_particles = num_particles\n",
    "        self.dimensions = dimensions\n",
    "        self.inertia = inertia\n",
    "        self.cognitive = cognitive\n",
    "        self.social = social\n",
    "        self.swarm = [Particle(dimensions) for _ in range(num_particles)]\n",
    "        self.global_best_position = np.random.uniform(-1, 1, dimensions)\n",
    "        self.global_best_error = float('inf')\n",
    "        self.cost_history = []\n",
    "    \n",
    "    def optimize(self, objective_func, iterations):\n",
    "        for it in range(iterations):\n",
    "            for particle in self.swarm:\n",
    "                # Evaluate current position\n",
    "                error = objective_func(particle.position)\n",
    "                \n",
    "                # Update personal best\n",
    "                if error < particle.best_error:\n",
    "                    particle.best_error = error\n",
    "                    particle.best_position = particle.position.copy()\n",
    "                \n",
    "                # Update global best\n",
    "                if error < self.global_best_error:\n",
    "                    self.global_best_error = error\n",
    "                    self.global_best_position = particle.position.copy()\n",
    "            \n",
    "            self.cost_history.append(self.global_best_error)\n",
    "            \n",
    "            for particle in self.swarm:\n",
    "                # Update velocity\n",
    "                r1 = np.random.rand(self.dimensions)\n",
    "                r2 = np.random.rand(self.dimensions)\n",
    "                cognitive_velocity = self.cognitive * r1 * (particle.best_position - particle.position)\n",
    "                social_velocity = self.social * r2 * (self.global_best_position - particle.position)\n",
    "                particle.velocity = self.inertia * particle.velocity + cognitive_velocity + social_velocity\n",
    "                \n",
    "                # Update position\n",
    "                particle.position += particle.velocity\n",
    "            \n",
    "            if it % 10 == 0 or it == iterations - 1:\n",
    "                print(f\"Iteration {it+1}/{iterations}, Global Best Error: {self.global_best_error:.4f}\")\n",
    "        \n",
    "        return self.global_best_position, self.global_best_error\n"
   ]
  },
  {
   "cell_type": "code",
   "execution_count": 22,
   "metadata": {},
   "outputs": [
    {
     "name": "stdout",
     "output_type": "stream",
     "text": [
      "Iteration 1/20, Global Best Error: 0.4958\n",
      "Iteration 11/20, Global Best Error: 0.3107\n",
      "Iteration 20/20, Global Best Error: 0.2824\n"
     ]
    },
    {
     "data": {
      "image/png": "[encoded data removed]",
      "text/plain": [
       "<Figure size 1000x600 with 1 Axes>"
      ]
     },
     "metadata": {},
     "output_type": "display_data"
    }
   ],
   "source": [
    "# Re-initialize PSO to capture cost history\n",
    "# pso = PSO(num_particles=num_particles, dimensions=dimensions)\n",
    "# best_position, best_error = pso.optimize(objective_function, iterations)\n",
    "\n",
    "# Plot cost history\n",
    "plt.figure(figsize=(10,6))\n",
    "plt.plot(range(1, iterations + 1), pso.cost_history, marker='o')\n",
    "plt.title('PSO Cost History')\n",
    "plt.xlabel('Iteration')\n",
    "plt.ylabel('Binary Cross-Entropy Loss')\n",
    "plt.grid(True)\n",
    "plt.show()\n"
   ]
  },
  {
   "cell_type": "code",
   "execution_count": 23,
   "metadata": {},
   "outputs": [
    {
     "data": {
      "image/png": "[encoded data removed]",
      "text/plain": [
       "<Figure size 800x600 with 1 Axes>"
      ]
     },
     "metadata": {},
     "output_type": "display_data"
    }
   ],
   "source": [
    "# Plotting training and testing accuracy\n",
    "labels = ['Training Accuracy', 'Testing Accuracy']\n",
    "accuracies = [train_accuracy, test_accuracy]\n",
    "\n",
    "plt.figure(figsize=(8,6))\n",
    "bars = plt.bar(labels, accuracies, color=['blue', 'green'])\n",
    "plt.ylim(0, 100)\n",
    "plt.ylabel('Accuracy (%)')\n",
    "plt.title('Model Accuracy')\n",
    "\n",
    "# Adding value labels on top of bars\n",
    "for bar in bars:\n",
    "    height = bar.get_height()\n",
    "    plt.text(bar.get_x() + bar.get_width()/2., height + 1,\n",
    "             f'{height:.2f}%', ha='center', va='bottom')\n",
    "\n",
    "plt.show()\n"
   ]
  },
  {
   "cell_type": "code",
   "execution_count": 24,
   "metadata": {},
   "outputs": [
    {
     "data": {
      "image/png": "[encoded data removed]",
      "text/plain": [
       "<Figure size 600x500 with 1 Axes>"
      ]
     },
     "metadata": {},
     "output_type": "display_data"
    },
    {
     "data": {
      "image/png": "[encoded data removed]",
      "text/plain": [
       "<Figure size 600x500 with 1 Axes>"
      ]
     },
     "metadata": {},
     "output_type": "display_data"
    }
   ],
   "source": [
    "import seaborn as sns\n",
    "\n",
    "def plot_confusion_matrix(cm, title):\n",
    "    plt.figure(figsize=(6,5))\n",
    "    sns.heatmap(cm, annot=True, fmt='d', cmap='Blues', cbar=False)\n",
    "    plt.xlabel('Predicted Label')\n",
    "    plt.ylabel('True Label')\n",
    "    plt.title(title)\n",
    "    plt.show()\n",
    "\n",
    "# Plot confusion matrices\n",
    "plot_confusion_matrix(train_cm, 'Training Confusion Matrix')\n",
    "plot_confusion_matrix(test_cm, 'Testing Confusion Matrix')\n"
   ]
  }
 ],
 "metadata": {
  "kernelspec": {
   "display_name": "venv",
   "language": "python",
   "name": "python3"
  },
  "language_info": {
   "codemirror_mode": {
    "name": "ipython",
    "version": 3
   },
   "file_extension": ".py",
   "mimetype": "text/x-python",
   "name": "python",
   "nbconvert_exporter": "python",
   "pygments_lexer": "ipython3",
   "version": "3.11.9"
  }
 },
 "nbformat": 4,
 "nbformat_minor": 2
}
